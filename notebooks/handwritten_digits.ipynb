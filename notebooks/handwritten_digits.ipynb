{
 "cells": [
  {
   "cell_type": "code",
   "execution_count": null,
   "metadata": {},
   "outputs": [],
   "source": [
    "%load_ext lab_black"
   ]
  },
  {
   "cell_type": "code",
   "execution_count": null,
   "metadata": {},
   "outputs": [],
   "source": [
    "from sklearn.datasets import load_digits\n",
    "import matplotlib.pyplot as plt\n",
    "import numpy as np\n",
    "from skmultiflow.trees import HoeffdingTreeClassifier\n",
    "from sklearn import datasets"
   ]
  },
  {
   "cell_type": "code",
   "execution_count": null,
   "metadata": {},
   "outputs": [],
   "source": [
    "LABELS = [\"0\", \"1\", \"2\", \"3\", \"4\", \"5\", \"6\", \"7\", \"8\", \"9\"]"
   ]
  },
  {
   "cell_type": "code",
   "execution_count": null,
   "metadata": {},
   "outputs": [],
   "source": [
    "GRACE_PERIOD = 75"
   ]
  },
  {
   "cell_type": "code",
   "execution_count": null,
   "metadata": {},
   "outputs": [],
   "source": [
    "def plot_image_from_array(image_array):\n",
    "    mat = image_array.reshape((8, 8))\n",
    "    plt.imshow(mat, cmap=plt.cm.gray_r, interpolation=\"nearest\")\n",
    "    plt.show()"
   ]
  },
  {
   "cell_type": "code",
   "execution_count": null,
   "metadata": {},
   "outputs": [],
   "source": [
    "X, _ = load_digits(return_X_y=True)"
   ]
  },
  {
   "cell_type": "code",
   "execution_count": null,
   "metadata": {},
   "outputs": [],
   "source": [
    "images_queue = list(X)"
   ]
  },
  {
   "cell_type": "code",
   "execution_count": null,
   "metadata": {},
   "outputs": [],
   "source": [
    "classifier = HoeffdingTreeClassifier(grace_period=GRACE_PERIOD)"
   ]
  },
  {
   "cell_type": "code",
   "execution_count": null,
   "metadata": {},
   "outputs": [],
   "source": [
    "images_seen = 0\n",
    "n_correct = 0\n",
    "n_incorrect = 0\n",
    "while True:\n",
    "    image_array = images_queue.pop()\n",
    "\n",
    "    plot_image_from_array(image_array)\n",
    "    y = int(input(\"What digit is this?\"))\n",
    "    \n",
    "    if images_seen > GRACE_PERIOD:\n",
    "        prediction = classifier.predict([image_array])[0]\n",
    "        print(f\"The models predicts {prediction}.\")\n",
    "        if prediction == y:\n",
    "            print(\"The model is CORRECT!\")\n",
    "            n_correct += 1\n",
    "        else:\n",
    "            print(\"The model is INCORRECT!\")\n",
    "            n_incorrect += 1\n",
    "        print(f\"The model's accuracy is {n_correct / (n_correct + n_incorrect)}.\")\n",
    "    \n",
    "    print(f\"The model has seen {images_seen} images.\")\n",
    "    classifier.partial_fit([image_array], [y])\n",
    "    images_seen += 1"
   ]
  }
 ],
 "metadata": {
  "environment": {
   "name": "tf2-2-2-gpu.2-2.m51",
   "type": "gcloud",
   "uri": "gcr.io/deeplearning-platform-release/tf2-2-2-gpu.2-2:m51"
  },
  "kernelspec": {
   "display_name": "Python 3",
   "language": "python",
   "name": "python3"
  },
  "language_info": {
   "codemirror_mode": {
    "name": "ipython",
    "version": 3
   },
   "file_extension": ".py",
   "mimetype": "text/x-python",
   "name": "python",
   "nbconvert_exporter": "python",
   "pygments_lexer": "ipython3",
   "version": "3.7.6"
  }
 },
 "nbformat": 4,
 "nbformat_minor": 4
}
